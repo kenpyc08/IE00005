{
 "cells": [
  {
   "cell_type": "markdown",
   "metadata": {},
   "source": [
    "# Exercise – Managing a Website User Blocklist"
   ]
  },
  {
   "cell_type": "markdown",
   "metadata": {},
   "source": [
    "### Q1: Import blocklist"
   ]
  },
  {
   "cell_type": "code",
   "execution_count": null,
   "metadata": {},
   "outputs": [],
   "source": [
    "blockfile = 'blocklist.txt'\n",
    "try:\n",
    "    f = open(blockfile)\n",
    "except FileNotFoundError:\n",
    "    print(blockfile+' does not exist.')\n",
    "#blocklist = f.readlines()\n",
    "blocklist = set(f.read().split('\\n'))\n",
    "print(blocklist)"
   ]
  },
  {
   "cell_type": "code",
   "execution_count": null,
   "metadata": {},
   "outputs": [],
   "source": [
    "f.close()\n",
    "blocklist.remove('')\n",
    "print('\\nUsers currently in blocklist:')\n",
    "for username in blocklist:\n",
    "    print(username)"
   ]
  },
  {
   "cell_type": "markdown",
   "metadata": {},
   "source": [
    "### Q2: Print usernames of blocked users"
   ]
  },
  {
   "cell_type": "code",
   "execution_count": null,
   "metadata": {
    "scrolled": true
   },
   "outputs": [],
   "source": [
    "visitorfile = 'visitors.txt'\n",
    "try:\n",
    "    f = open(visitorfile)\n",
    "except FileNotFoundError:\n",
    "    print(visitorfile+' does not exist.')\n",
    "visitors = set(f.read().split('\\n'))\n",
    "f.close()\n",
    "print('\\nNumber of visitors today: '+str(len(visitors)))\n",
    "for username in visitors:\n",
    "    print(username)"
   ]
  },
  {
   "cell_type": "code",
   "execution_count": null,
   "metadata": {},
   "outputs": [],
   "source": [
    "for username in visitors:\n",
    "    if username in blocklist:\n",
    "        print(username)"
   ]
  },
  {
   "cell_type": "markdown",
   "metadata": {},
   "source": [
    "### Q3: Add new offenders to blocklist"
   ]
  },
  {
   "cell_type": "code",
   "execution_count": null,
   "metadata": {},
   "outputs": [],
   "source": [
    "offenders = set()\n",
    "print('Add new offenders (enter . to stop): ')\n",
    "while True:\n",
    "    newoffender = input()\n",
    "    if newoffender == '.':\n",
    "        break\n",
    "    else:\n",
    "        offenders.add(newoffender)\n",
    "print(offenders)"
   ]
  },
  {
   "cell_type": "code",
   "execution_count": null,
   "metadata": {},
   "outputs": [],
   "source": [
    "offenders -= blocklist\n",
    "print(offenders)"
   ]
  },
  {
   "cell_type": "code",
   "execution_count": null,
   "metadata": {},
   "outputs": [],
   "source": [
    "f = open(blockfile, 'a')\n",
    "print('\\nUsers added to the blocklist:')\n",
    "for username in offenders:\n",
    "    f.write(username+'\\n')\n",
    "    print(username)\n",
    "f.close()"
   ]
  }
 ],
 "metadata": {
  "interpreter": {
   "hash": "57e1b559dacf43725e1ed3764b0ee83225f8bdeeef0b183e08a2c01330bea852"
  },
  "kernelspec": {
   "display_name": "Python 3 (ipykernel)",
   "language": "python",
   "name": "python3"
  },
  "language_info": {
   "codemirror_mode": {
    "name": "ipython",
    "version": 3
   },
   "file_extension": ".py",
   "mimetype": "text/x-python",
   "name": "python",
   "nbconvert_exporter": "python",
   "pygments_lexer": "ipython3",
   "version": "3.10.2"
  }
 },
 "nbformat": 4,
 "nbformat_minor": 4
}
