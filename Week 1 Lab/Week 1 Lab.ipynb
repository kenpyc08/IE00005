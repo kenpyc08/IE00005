{
 "cells": [
  {
   "cell_type": "code",
   "execution_count": 3,
   "id": "19f8f0a2",
   "metadata": {},
   "outputs": [
    {
     "name": "stdout",
     "output_type": "stream",
     "text": [
      "captainhook@neverland.com\n",
      "cleopatra@pharaoh.org\n",
      "d.vader@empire.net\n"
     ]
    }
   ],
   "source": [
    "blocklist = open('blocklist.txt', 'r')\n",
    "\n",
    "try:\n",
    "    d = blocklist.readlines()\n",
    "    for x in d:\n",
    "        print(x)\n",
    "        \n",
    "    blocklist.close()\n",
    "\n",
    "except FileNotFoundError:\n",
    "    print('File Not Found!!')\n"
   ]
  },
  {
   "cell_type": "code",
   "execution_count": 36,
   "id": "3f820a7c",
   "metadata": {},
   "outputs": [
    {
     "name": "stdout",
     "output_type": "stream",
     "text": [
      "captainhook@neverland.com\n",
      "d.vader@empire.net\n",
      "alice@wonderland.co.uk\n",
      "cleopatra@pharaoh.org\n",
      "6\n",
      "d.vader@empire.net\n",
      "alice@wonderland.co.uk\n"
     ]
    }
   ],
   "source": [
    "# Question 1\n",
    "blocklist = open('blocklist.txt', 'r')\n",
    "\n",
    "try:\n",
    "    d = set(blocklist.read().split())\n",
    "    for x in d:\n",
    "        print(x)        \n",
    "    \n",
    "except FileNotFoundError:\n",
    "    print('File Not Found!!')\n",
    "    \n",
    "# Question 2\n",
    "visitors = open('Visitors.txt', 'r+')\n",
    "\n",
    "c = set(visitors.read().split())\n",
    "\n",
    "print(len(c))\n",
    "\n",
    "for y in c&d:\n",
    "    print(y)\n",
    "    \n",
    "# Question 3\n",
    "offender = {'alice@wonderland.co.uk'}\n",
    "\n",
    "for z in offender-d:\n",
    "    blocklist.write('\\n' + z)\n",
    "    \n",
    "blocklist.close()\n",
    "visitors.close()\n",
    "\n",
    "\n",
    "\n",
    "\n",
    "\n",
    "\n",
    "\n",
    "    "
   ]
  },
  {
   "cell_type": "code",
   "execution_count": null,
   "id": "2e0df6c4",
   "metadata": {},
   "outputs": [],
   "source": []
  }
 ],
 "metadata": {
  "kernelspec": {
   "display_name": "Python 3 (ipykernel)",
   "language": "python",
   "name": "python3"
  },
  "language_info": {
   "codemirror_mode": {
    "name": "ipython",
    "version": 3
   },
   "file_extension": ".py",
   "mimetype": "text/x-python",
   "name": "python",
   "nbconvert_exporter": "python",
   "pygments_lexer": "ipython3",
   "version": "3.9.13"
  }
 },
 "nbformat": 4,
 "nbformat_minor": 5
}
