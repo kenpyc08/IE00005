{
 "cells": [
  {
   "cell_type": "code",
   "execution_count": 3,
   "id": "19f8f0a2",
   "metadata": {},
   "outputs": [
    {
     "name": "stdout",
     "output_type": "stream",
     "text": [
      "captainhook@neverland.com\n",
      "cleopatra@pharaoh.org\n",
      "d.vader@empire.net\n"
     ]
    }
   ],
   "source": [
    "blocklist = open('blocklist.txt', 'r')\n",
    "\n",
    "try:\n",
    "    d = blocklist.readlines()\n",
    "    for x in d:\n",
    "        print(x)\n",
    "        \n",
    "    blocklist.close()\n",
    "\n",
    "except FileNotFoundError:\n",
    "    print('File Not Found!!')\n"
   ]
  },
  {
   "cell_type": "code",
   "execution_count": null,
   "id": "10ee4dc1",
   "metadata": {},
   "outputs": [],
   "source": [
    "# Question 1\n",
    "blocklist = open('blocklist.txt', 'r')\n",
    "\n",
    "try:\n",
    "    d = set(blocklist.read().split())\n",
    "    for x in d:\n",
    "        print(x)        \n",
    "    \n",
    "except FileNotFoundError:\n",
    "    print('File Not Found!!')\n",
    "    \n",
    "# Question 2\n",
    "visitors = open('Visitors.txt', 'r+')\n",
    "\n",
    "c = set(visitors.read().split())\n",
    "\n",
    "print(len(c))\n",
    "\n",
    "for y in c&d:\n",
    "    print(y)\n",
    "    \n",
    "# Question 3\n",
    "offender = {'alice@wonderland.co.uk'}\n",
    "\n",
    "for z in offender-d:\n",
    "    blocklist.write('\\n' + z)\n",
    "    \n",
    "blocklist.close()\n",
    "visitors.close()\n",
    "\n",
    "\n",
    "\n",
    "\n",
    "\n",
    "\n",
    "\n",
    "    "
   ]
  },
  {
   "cell_type": "code",
   "execution_count": 37,
   "id": "2e0df6c4",
   "metadata": {},
   "outputs": [
    {
     "name": "stdout",
     "output_type": "stream",
     "text": [
      "{'captainhook@neverland.com', 'd.vader@empire.net', 'cleopatra@pharaoh.org'}\n",
      "\n",
      "Users currently in blocklist:\n",
      "captainhook@neverland.com\n",
      "d.vader@empire.net\n",
      "cleopatra@pharaoh.org\n",
      "\n",
      "Number of visitors today: 6\n",
      "nero@rome.com\n",
      "usain.bolt@runnersclub.org\n",
      "mcurie@radium.com\n",
      "brucelee@fistoffury.com\n",
      "alice@wonderland.co.uk\n",
      "d.vader@empire.net\n",
      "Add new offenders (Enter .  to stop): \n",
      "lrxcalvin@google.com\n",
      ".\n",
      "{'lrxcalvin@google.com'}\n"
     ]
    }
   ],
   "source": [
    "#Question 1\n",
    "blockfile = 'blocklist.txt'\n",
    "\n",
    "try:\n",
    "    f = open(blockfile)\n",
    "    \n",
    "except FileNotFoundError:\n",
    "    print(blockfile + 'file not found')\n",
    "\n",
    "#blockfile = f.readlines()\n",
    "blockfile = set(f.read().split())\n",
    "print(blockfile)\n",
    "\n",
    "print('\\nUsers currently in blocklist:')\n",
    "for username in blockfile:\n",
    "    print(username)\n",
    "    \n",
    "#Question 2\n",
    "try:\n",
    "    v = open('visitors.txt')\n",
    "    \n",
    "except FileNotFoundError:\n",
    "    print(v + 'file not found')  \n",
    "\n",
    "visitor = set(v.read().split())\n",
    "\n",
    "print('\\nNumber of visitors today: ' + str(len(visitor)))\n",
    "for x in visitor:\n",
    "    print(x)\n",
    "\n",
    "    \n",
    "# Question 3 \n",
    "offenders = set()\n",
    "print('Add new offenders (Enter .  to stop): ')\n",
    "while True:\n",
    "    newoffender = input()\n",
    "    if newoffender == '.':\n",
    "        break\n",
    "    else:\n",
    "        offenders.add(newoffender)\n",
    "print(offenders)\n",
    "\n",
    "\n"
   ]
  },
  {
   "cell_type": "code",
   "execution_count": null,
   "id": "b1c2ec46",
   "metadata": {},
   "outputs": [],
   "source": []
  }
 ],
 "metadata": {
  "kernelspec": {
   "display_name": "Python 3 (ipykernel)",
   "language": "python",
   "name": "python3"
  },
  "language_info": {
   "codemirror_mode": {
    "name": "ipython",
    "version": 3
   },
   "file_extension": ".py",
   "mimetype": "text/x-python",
   "name": "python",
   "nbconvert_exporter": "python",
   "pygments_lexer": "ipython3",
   "version": "3.9.13"
  }
 },
 "nbformat": 4,
 "nbformat_minor": 5
}
